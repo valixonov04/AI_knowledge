{
 "cells": [
  {
   "cell_type": "code",
   "execution_count": 1,
   "id": "0f16e1bd-8d0f-4dce-be40-8eb811a48d74",
   "metadata": {},
   "outputs": [],
   "source": [
    "import numpy as np #kutibxonani o'rnatish "
   ]
  },
  {
   "cell_type": "code",
   "execution_count": 14,
   "id": "6c907fac-38f9-43ae-8493-b778f884817c",
   "metadata": {},
   "outputs": [],
   "source": [
    "arr = np.array([1,2,3,4]) #array matritsa yaratish "
   ]
  },
  {
   "cell_type": "code",
   "execution_count": 15,
   "id": "c20313c5-7ab8-46da-b0c5-3d18665c7bd6",
   "metadata": {},
   "outputs": [
    {
     "data": {
      "text/plain": [
       "array([1, 2, 3, 4])"
      ]
     },
     "execution_count": 15,
     "metadata": {},
     "output_type": "execute_result"
    }
   ],
   "source": [
    "arr "
   ]
  },
  {
   "cell_type": "code",
   "execution_count": 16,
   "id": "1e00b0b0-59ff-459b-9f27-0e9f2dab1feb",
   "metadata": {},
   "outputs": [],
   "source": [
    "arr1 = np.array([[1,3,4],[1,2,3]]) #ikki o'lchovliy matritsa"
   ]
  },
  {
   "cell_type": "code",
   "execution_count": 19,
   "id": "87a7340f-c1f4-4458-b160-055fa965bf41",
   "metadata": {},
   "outputs": [
    {
     "data": {
      "text/plain": [
       "2"
      ]
     },
     "execution_count": 19,
     "metadata": {},
     "output_type": "execute_result"
    }
   ],
   "source": [
    "arr1.ndim #necha o'lchavligini ko'rish"
   ]
  },
  {
   "cell_type": "code",
   "execution_count": 29,
   "id": "be2ef42b-b981-4712-8028-0a8971be022f",
   "metadata": {},
   "outputs": [
    {
     "name": "stdout",
     "output_type": "stream",
     "text": [
      "3\n",
      "3\n",
      "Array [[[ 1  2  3  4  5]\n",
      "  [ 1  3 99  5  6]]\n",
      "\n",
      " [[ 1  2  3  4  5]\n",
      "  [ 1  3  4  5  6]]] liy \n",
      "99 Biz qidirayotgan son\n"
     ]
    }
   ],
   "source": [
    "#indexlar bilan ishlash \n",
    "\n",
    "arr[0] #arrayning birinchi elementiga murojat qilish.\n",
    "print(arr[0]+arr[1])\n",
    "\n",
    "#birqancha o'lchovliy matritsalar bilan ishlash \n",
    "\n",
    "print(arr1[0,1]) #buyer da 0 araynig birnchi o'lchami 1 esa uning 2 elementi \n",
    " #uch o'lchovliy arraylar bilan ishlash \n",
    "\n",
    "arr3 = np.array([[[1,2,3,4,5],[1,3,99,5,6]],[[1,2,3,4,5],[1,3,4,5,6]]])\n",
    "print(f\"Array {arr3} liy \")\n",
    "print(arr3[0,1,2] ,\"Biz qidirayotgan son\") #arrayga murojat qilishda katta matritsadan boshlab boshlab murojat qilishni boshleymiz\n",
    " "
   ]
  },
  {
   "cell_type": "code",
   "execution_count": 30,
   "id": "e9faecf4-47c9-4cf7-b432-87987ac7c185",
   "metadata": {},
   "outputs": [
    {
     "data": {
      "text/plain": [
       "6"
      ]
     },
     "execution_count": 30,
     "metadata": {},
     "output_type": "execute_result"
    }
   ],
   "source": [
    "arr = np.array([[[1, 2, 3], [4, 5, 6]], [[7, 8, 9], [10, 11, 12]]])\n",
    "arr[0,1,2]"
   ]
  },
  {
   "cell_type": "code",
   "execution_count": 31,
   "id": "a904cf58-4eb9-4abe-8c84-1017f569b49e",
   "metadata": {},
   "outputs": [
    {
     "name": "stdout",
     "output_type": "stream",
     "text": [
      "Last element from 2nd dim:  10\n"
     ]
    }
   ],
   "source": [
    "arr = np.array([[1,2,3,4,5], [6,7,8,9,10]])\n",
    "\n",
    "print('Last element from 2nd dim: ', arr[1, -1]) # yoki - orqali teskarisigaham murojat qilish mumkin "
   ]
  },
  {
   "cell_type": "code",
   "execution_count": 42,
   "id": "8b493e8e-b905-4a80-842f-790c6d4dd611",
   "metadata": {},
   "outputs": [
    {
     "name": "stdout",
     "output_type": "stream",
     "text": [
      "[2 3 4 5 6]\n",
      "[1 2 3 4 5 6]\n",
      "[1 3 5]\n",
      "[5 6]\n",
      "[1 3 5 7]\n"
     ]
    }
   ],
   "source": [
    "# NumPy Array Slicing  Qirqib olish \n",
    "# [start:end] \n",
    "# [start:end:step] \n",
    "\n",
    "arr = np.array([1, 2, 3, 4, 5, 6, 7])\n",
    "\n",
    "print(arr[1:6]) #ikkinchi elementdan boshlab to 5 elementgacha bolgan qiymatlarni ajratib oldi\n",
    "print(arr[:6]) #toki 6 indexdagi qiymatgacha bo'lgan barcha qiymatni ajratib beradi\n",
    "print(arr[:6:2]) # necha qadamda qiymatlarni olishiniham berish mumkin.\n",
    "print(arr[-3:-1]) #orqadanham murojat qilish mumkin.\n",
    "print(arr[::2]) #barcha qiymatda ikki qadam bilan murojat qiladi."
   ]
  },
  {
   "cell_type": "code",
   "execution_count": 43,
   "id": "8f747b88-2cb1-49fc-a1ab-7d6a890c1aac",
   "metadata": {},
   "outputs": [],
   "source": [
    "#Slicing 2-D Arrays"
   ]
  },
  {
   "cell_type": "code",
   "execution_count": 47,
   "id": "b43a170b-131a-4995-9afa-90526ce861fe",
   "metadata": {},
   "outputs": [
    {
     "name": "stdout",
     "output_type": "stream",
     "text": [
      "[7 8 9]\n",
      "[3 8]\n"
     ]
    }
   ],
   "source": [
    "arr = np.array([[1, 2, 3, 4, 5], [6, 7, 8, 9, 10]])\n",
    "print(arr[1, 1:4])  #birinchi aynan nechinchisiga murojat qilish kerakligini ko'rsatamiz , song qayerdan qayergacha ekanligini beramiz\n",
    "print(arr[0:2, 2])  # buyerda biz birinchi boliob qatorlarni ragisini beryapmiz song ustuni qiymatini beryapmiz "
   ]
  },
  {
   "cell_type": "code",
   "execution_count": 48,
   "id": "74f43abe-8e56-4b4c-80a7-f2e6c3ada2af",
   "metadata": {},
   "outputs": [],
   "source": [
    "#Data Types in Python\n",
    "\n",
    "# strings - used to represent text data, the text is given under quote marks. e.g. \"ABCD\"\n",
    "# integer - used to represent integer numbers. e.g. -1, -2, -3\n",
    "# float - used to represent real numbers. e.g. 1.2, 42.42\n",
    "# boolean - used to represent True or False.\n",
    "# complex - used to represent complex numbers. e.g. 1.0 + 2.0j, 1.5 + 2.5j\n",
    "\n"
   ]
  },
  {
   "cell_type": "code",
   "execution_count": 49,
   "id": "799981ae-c5ea-476d-a49a-53e71a39d2c5",
   "metadata": {},
   "outputs": [
    {
     "name": "stdout",
     "output_type": "stream",
     "text": [
      "int32\n"
     ]
    }
   ],
   "source": [
    "arr = np.array([1, 2, 3, 4])\n",
    "print(arr.dtype) #array type int32  ekanligini ko'rish mumkin "
   ]
  },
  {
   "cell_type": "code",
   "execution_count": 50,
   "id": "36397f71-9c0c-4332-bcd8-d96062fb6592",
   "metadata": {},
   "outputs": [
    {
     "name": "stdout",
     "output_type": "stream",
     "text": [
      "<U6\n"
     ]
    }
   ],
   "source": [
    "arr = np.array(['apple', 'banana', 'cherry'])\n",
    "\n",
    "print(arr.dtype) #buyerda unicode string ekanligini ko'ryapmiz"
   ]
  },
  {
   "cell_type": "code",
   "execution_count": 55,
   "id": "a644b353-bc02-4de0-af33-a458c799e45a",
   "metadata": {},
   "outputs": [
    {
     "data": {
      "text/plain": [
       "dtype('S4')"
      ]
     },
     "execution_count": 55,
     "metadata": {},
     "output_type": "execute_result"
    }
   ],
   "source": [
    "#Creating Arrays With a Defined Data Type \n",
    "#biz o'zimiz datatype ni berishimizham mumkin , bu uchun biz dtype dan foyalanamiz \n",
    "\n",
    "arr = np.array([2,20,2020] ,dtype = \"S\")\n",
    "arr.dtype"
   ]
  },
  {
   "cell_type": "code",
   "execution_count": 57,
   "id": "fc1f29e8-c6c1-4532-9ef5-ea63bc3c3681",
   "metadata": {},
   "outputs": [
    {
     "name": "stdout",
     "output_type": "stream",
     "text": [
      "[ 1  2  3 50  5  6  7]\n",
      "[1 2 3 4 5 6 7]\n"
     ]
    }
   ],
   "source": [
    "#cope \n",
    "arr = np.array([1,2,3,4,5,6,7]) \n",
    "x = arr.copy() #asildan nushalab olmoqdamiz \n",
    "arr[3] = 50 #3chi indexdagi elementni qiymatini 50 qilib o'zgariri oldik\n",
    "print(arr)\n",
    "print(x)"
   ]
  },
  {
   "cell_type": "code",
   "execution_count": 59,
   "id": "a362b645-9f33-49c0-8549-484b61bfda50",
   "metadata": {},
   "outputs": [
    {
     "name": "stdout",
     "output_type": "stream",
     "text": [
      "[ 1  2  3 30  5  6  7]\n",
      "[ 1  2  3 30  5  6  7]\n"
     ]
    }
   ],
   "source": [
    "#view\n",
    "arr = np.array([1,2,3,4,5,6,7]) \n",
    "y = arr.view() #agar view orqali nusha olsak asil arrayda bo'lgan o'zgariishlar nushalangan arraygaham tasir qiladi.\n",
    "arr[3] = 30\n",
    "\n",
    "print(arr)\n",
    "print(y)\n",
    "\n"
   ]
  },
  {
   "cell_type": "code",
   "execution_count": 60,
   "id": "e6bab7f7-67ce-4a80-8c62-2173588cb879",
   "metadata": {},
   "outputs": [
    {
     "data": {
      "text/plain": [
       "(2, 4)"
      ]
     },
     "execution_count": 60,
     "metadata": {},
     "output_type": "execute_result"
    }
   ],
   "source": [
    "# Shape of an Array\n",
    "\n",
    "arr = np.array([[1, 2, 3, 4], [5, 6, 7, 8]])\n",
    "arr.shape #matritsalrni o'lchamini ko'rish mumkin. bizda 2 qator va 4 ta ustundan tashkil topgan "
   ]
  },
  {
   "cell_type": "code",
   "execution_count": 63,
   "id": "2c6ad4b8-da18-4d6a-baf0-c1e70cf8fa0c",
   "metadata": {},
   "outputs": [
    {
     "data": {
      "text/plain": [
       "(1, 1, 1, 1, 1, 1, 1, 1, 1, 1, 1, 1, 1, 1, 1, 1, 1, 1, 1, 1, 1, 1, 1, 5)"
      ]
     },
     "execution_count": 63,
     "metadata": {},
     "output_type": "execute_result"
    }
   ],
   "source": [
    "arr = np.array([1,2,3,4,5], ndmin = 24)\n",
    "arr.shape"
   ]
  },
  {
   "cell_type": "code",
   "execution_count": 67,
   "id": "f6a399a2-4697-40ac-aaff-5c042c53c06d",
   "metadata": {},
   "outputs": [
    {
     "data": {
      "text/plain": [
       "array([[[ 1,  2],\n",
       "        [ 3,  4]],\n",
       "\n",
       "       [[ 5,  6],\n",
       "        [ 7,  8]],\n",
       "\n",
       "       [[ 9, 10],\n",
       "        [11, 12]],\n",
       "\n",
       "       [[13, 14],\n",
       "        [15, 16]]])"
      ]
     },
     "execution_count": 67,
     "metadata": {},
     "output_type": "execute_result"
    }
   ],
   "source": [
    "#Reshape From 1-D to 2-D \n",
    "\n",
    "arr = np.array([1,2,3,4,5,6,7,8,9,10,11,12,13,14,15,16])\n",
    "arr.reshape(4,4)"
   ]
  },
  {
   "cell_type": "code",
   "execution_count": 66,
   "id": "56bff35d-5dfe-43ab-89b6-59e65bd27917",
   "metadata": {},
   "outputs": [
    {
     "name": "stdout",
     "output_type": "stream",
     "text": [
      "[[[ 1  2]\n",
      "  [ 3  4]\n",
      "  [ 5  6]]\n",
      "\n",
      " [[ 7  8]\n",
      "  [ 9 10]\n",
      "  [11 12]]]\n"
     ]
    }
   ],
   "source": [
    "arr = np.array([1, 2, 3, 4, 5, 6, 7, 8, 9, 10, 11, 12])\n",
    "\n",
    "newarr = arr.reshape(2, 3, 2) #ikkiga uchliy matritsadan 2 ta \n",
    "\n",
    "print(newarr)\n"
   ]
  },
  {
   "cell_type": "code",
   "execution_count": 70,
   "id": "512293e2-fdaf-4d1f-a83c-8170d5d3c61d",
   "metadata": {},
   "outputs": [
    {
     "data": {
      "text/plain": [
       "array([[[ 1,  2],\n",
       "        [ 3,  4]],\n",
       "\n",
       "       [[ 5,  6],\n",
       "        [ 7,  8]],\n",
       "\n",
       "       [[ 9, 10],\n",
       "        [11, 12]],\n",
       "\n",
       "       [[13, 14],\n",
       "        [15, 16]]])"
      ]
     },
     "execution_count": 70,
     "metadata": {},
     "output_type": "execute_result"
    }
   ],
   "source": [
    "#agar siz nechta o'lchamga bolishni aniq bilmasez -1 dan foydalanizsh mumkin , masslan bunday \n",
    "\n",
    "arr = np.array([1,2,3,4,5,6,7,8,9,10,11,12,13,14,15,16])\n",
    "arr.reshape(4,2 , -1) #buyerda o'zi teng taqsimlab beradi "
   ]
  },
  {
   "cell_type": "code",
   "execution_count": 71,
   "id": "e0021324-094d-47a8-8c41-e5cd1014b6e8",
   "metadata": {},
   "outputs": [
    {
     "data": {
      "text/plain": [
       "array([1, 2, 3, 4, 5, 6, 7, 8])"
      ]
     },
     "execution_count": 71,
     "metadata": {},
     "output_type": "execute_result"
    }
   ],
   "source": [
    "#istalgan ko'p o'lchamliy arrayni bir o'lchami ga o'tkazish mumkih.\n",
    "\n",
    "arr = np.array([[1, 2, 3, 4], [5, 6, 7, 8]])\n",
    "\n",
    "arr.reshape(-1) #-1 berishni o'zi yetarliy"
   ]
  },
  {
   "cell_type": "code",
   "execution_count": 72,
   "id": "00c218be-be7a-47bb-965d-0180d8f98f46",
   "metadata": {},
   "outputs": [
    {
     "name": "stdout",
     "output_type": "stream",
     "text": [
      "1\n",
      "2\n",
      "3\n"
     ]
    }
   ],
   "source": [
    "arr = np.array([1, 2, 3])\n",
    "\n",
    "for x in arr:\n",
    "  print(x)"
   ]
  },
  {
   "cell_type": "code",
   "execution_count": 74,
   "id": "7f53594d-59d4-4393-b06c-de3bde335e5c",
   "metadata": {},
   "outputs": [
    {
     "name": "stdout",
     "output_type": "stream",
     "text": [
      "1\n",
      "2\n",
      "3\n"
     ]
    }
   ],
   "source": [
    "for x in np.nditer(arr):\n",
    "  print(x)"
   ]
  },
  {
   "cell_type": "code",
   "execution_count": 77,
   "id": "85c99d23-6de7-4a03-b321-79c4352d2913",
   "metadata": {},
   "outputs": [
    {
     "data": {
      "text/plain": [
       "array([1, 2, 3, 4, 5, 6])"
      ]
     },
     "execution_count": 77,
     "metadata": {},
     "output_type": "execute_result"
    }
   ],
   "source": [
    "#join arraylarni qo'shish \n",
    "\n",
    "arr1 = np.array([1, 2, 3])\n",
    "\n",
    "arr2 = np.array([4, 5, 6])\n",
    "x =np.concatenate((arr1,arr2))\n",
    "x"
   ]
  },
  {
   "cell_type": "code",
   "execution_count": 79,
   "id": "90e9bbe0-34a8-45c4-9354-0bb39962f265",
   "metadata": {},
   "outputs": [
    {
     "name": "stdout",
     "output_type": "stream",
     "text": [
      "[[1 2]\n",
      " [3 4]\n",
      " [5 6]\n",
      " [7 8]]\n"
     ]
    }
   ],
   "source": [
    "arr1 = np.array([[1, 2], [3, 4]])\n",
    "\n",
    "arr2 = np.array([[5, 6], [7, 8]])\n",
    "\n",
    "arr = np.concatenate((arr1, arr2), axis=1) # bir qancha o'lchovliy arraylarni qo'shish va buyerda axis =1 ustun bo'yicha qoshyapti axis = 0 bo'lsa qator bo'yicha qo'shadi .\n",
    "\n",
    "print(arr)"
   ]
  },
  {
   "cell_type": "code",
   "execution_count": null,
   "id": "3a25a6b8-fdd6-446c-b5d7-527b6dac91f4",
   "metadata": {},
   "outputs": [],
   "source": []
  },
  {
   "cell_type": "code",
   "execution_count": null,
   "id": "43ef7617-588d-48a5-bede-7a56cce4a831",
   "metadata": {},
   "outputs": [],
   "source": []
  }
 ],
 "metadata": {
  "kernelspec": {
   "display_name": "Python [conda env:base] *",
   "language": "python",
   "name": "conda-base-py"
  },
  "language_info": {
   "codemirror_mode": {
    "name": "ipython",
    "version": 3
   },
   "file_extension": ".py",
   "mimetype": "text/x-python",
   "name": "python",
   "nbconvert_exporter": "python",
   "pygments_lexer": "ipython3",
   "version": "3.12.7"
  }
 },
 "nbformat": 4,
 "nbformat_minor": 5
}
